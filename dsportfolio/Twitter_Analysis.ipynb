{
  "nbformat": 4,
  "nbformat_minor": 0,
  "metadata": {
    "colab": {
      "name": "Twitter Analysis.ipynb",
      "provenance": [],
      "authorship_tag": "ABX9TyOjnDxKpoHK4dzabA+eziXN",
      "include_colab_link": true
    },
    "kernelspec": {
      "name": "python3",
      "display_name": "Python 3"
    }
  },
  "cells": [
    {
      "cell_type": "markdown",
      "metadata": {
        "id": "view-in-github",
        "colab_type": "text"
      },
      "source": [
        "<a href=\"https://colab.research.google.com/github/srivatsan88/YouTubeLI/blob/master/dsportfolio/Twitter_Analysis.ipynb\" target=\"_parent\"><img src=\"https://colab.research.google.com/assets/colab-badge.svg\" alt=\"Open In Colab\"/></a>"
      ]
    },
    {
      "cell_type": "markdown",
      "metadata": {
        "id": "mBQ9rcFkZaaF",
        "colab_type": "text"
      },
      "source": [
        "![Model Training](https://drive.google.com/uc?id=17cUxpbL2eonLzgY0uIVAxmsfMfQF1by2)"
      ]
    },
    {
      "cell_type": "code",
      "metadata": {
        "id": "lNxJfjPCLO-T",
        "colab_type": "code",
        "colab": {}
      },
      "source": [
        "from google.colab import drive\n",
        "drive.mount('/content/drive')"
      ],
      "execution_count": 0,
      "outputs": []
    },
    {
      "cell_type": "code",
      "metadata": {
        "id": "vclrTo1rLV0t",
        "colab_type": "code",
        "colab": {}
      },
      "source": [
        "!ls '/content/drive/My Drive/Colab Notebooks/twitter.properties'"
      ],
      "execution_count": 0,
      "outputs": []
    },
    {
      "cell_type": "code",
      "metadata": {
        "id": "6wF2auF-MpVp",
        "colab_type": "code",
        "colab": {}
      },
      "source": [
        "!pip install ConfigParser"
      ],
      "execution_count": 0,
      "outputs": []
    },
    {
      "cell_type": "markdown",
      "metadata": {
        "id": "b-PiMClfrxDu",
        "colab_type": "text"
      },
      "source": [
        "[twitter]\n",
        "accesstoken=xxxx\n",
        "\n",
        "accesstokensecret=xxxx\n",
        "\n",
        "apikey=xxxxxx\n",
        "\n",
        "apisecretkey=xxxxxx\n",
        "\n",
        "googleapikey=xxxxxxx"
      ]
    },
    {
      "cell_type": "code",
      "metadata": {
        "id": "bUTImyaELjg1",
        "colab_type": "code",
        "colab": {}
      },
      "source": [
        "import configparser\n",
        "config = configparser.RawConfigParser()\n",
        "config.read('/content/drive/My Drive/Colab Notebooks/twitter.properties')\n",
        "\n",
        "print(config.sections());\n"
      ],
      "execution_count": 0,
      "outputs": []
    },
    {
      "cell_type": "code",
      "metadata": {
        "id": "T_h2rf6gMm39",
        "colab_type": "code",
        "colab": {}
      },
      "source": [
        "import os\n",
        "import tweepy as tw"
      ],
      "execution_count": 0,
      "outputs": []
    },
    {
      "cell_type": "code",
      "metadata": {
        "id": "Ms8Hd6oJNQHg",
        "colab_type": "code",
        "colab": {}
      },
      "source": [
        "accesstoken=config.get('twitter', 'accesstoken')\n",
        "accesstokensecret=config.get('twitter', 'accesstokensecret')\n",
        "apikey=config.get('twitter', 'apikey')\n",
        "apisecretkey=config.get('twitter', 'apisecretkey')"
      ],
      "execution_count": 0,
      "outputs": []
    },
    {
      "cell_type": "code",
      "metadata": {
        "id": "w6Qdj6yPNds-",
        "colab_type": "code",
        "colab": {}
      },
      "source": [
        "auth = tw.OAuthHandler(apikey, apisecretkey)\n",
        "auth.set_access_token(accesstoken, accesstokensecret)\n",
        "api = tw.API(auth, wait_on_rate_limit=True)"
      ],
      "execution_count": 0,
      "outputs": []
    },
    {
      "cell_type": "code",
      "metadata": {
        "id": "mX8wpgLrR5HU",
        "colab_type": "code",
        "colab": {}
      },
      "source": [
        "search_words = \"#coronavirus\"\n",
        "date_since = \"2020-03-10\""
      ],
      "execution_count": 0,
      "outputs": []
    },
    {
      "cell_type": "code",
      "metadata": {
        "id": "vAOlJY7aSfiT",
        "colab_type": "code",
        "colab": {}
      },
      "source": [
        "tweets = tw.Cursor(api.search,\n",
        "              q=search_words,\n",
        "              lang=\"en\",\n",
        "              since=date_since).items(1000)"
      ],
      "execution_count": 0,
      "outputs": []
    },
    {
      "cell_type": "code",
      "metadata": {
        "id": "RdCtP5wJStTb",
        "colab_type": "code",
        "colab": {}
      },
      "source": [
        "tweets"
      ],
      "execution_count": 0,
      "outputs": []
    },
    {
      "cell_type": "code",
      "metadata": {
        "id": "sRwitVyKS7c2",
        "colab_type": "code",
        "colab": {}
      },
      "source": [
        "tweet_details = [[tweet.geo, tweet.text,tweet.user.screen_name, tweet.user.location] for tweet in tweets]\n",
        "#tweet_details"
      ],
      "execution_count": 0,
      "outputs": []
    },
    {
      "cell_type": "code",
      "metadata": {
        "id": "SdVBf0x0Z646",
        "colab_type": "code",
        "colab": {}
      },
      "source": [
        "import pandas as pd"
      ],
      "execution_count": 0,
      "outputs": []
    },
    {
      "cell_type": "code",
      "metadata": {
        "id": "y0URhY_mZE_A",
        "colab_type": "code",
        "colab": {}
      },
      "source": [
        "tweet_df = pd.DataFrame(data=tweet_details, columns=['geo','text','user', \"location\"])"
      ],
      "execution_count": 0,
      "outputs": []
    },
    {
      "cell_type": "code",
      "metadata": {
        "id": "6wdFdf460ZoI",
        "colab_type": "code",
        "colab": {}
      },
      "source": [
        "pd.set_option('max_colwidth', 800)\n",
        "\n",
        "tweet_df.head(20)"
      ],
      "execution_count": 0,
      "outputs": []
    },
    {
      "cell_type": "code",
      "metadata": {
        "id": "R1w33ZGZJKTy",
        "colab_type": "code",
        "colab": {}
      },
      "source": [
        "tweet_df.user.value_counts()"
      ],
      "execution_count": 0,
      "outputs": []
    },
    {
      "cell_type": "code",
      "metadata": {
        "id": "BUU5aYBFJJ2V",
        "colab_type": "code",
        "colab": {}
      },
      "source": [
        "tweet_df.location.value_counts()"
      ],
      "execution_count": 0,
      "outputs": []
    },
    {
      "cell_type": "code",
      "metadata": {
        "id": "lDSp4VwMrUrU",
        "colab_type": "code",
        "colab": {}
      },
      "source": [
        "import re\n",
        "def clean_tweets(text):\n",
        "    text = re.sub(\"RT @[\\w]*:\",\"\",text)\n",
        "    text = re.sub(\"@[\\w]*\",\"\",text)\n",
        "    text = re.sub(\"https?://[A-Za-z0-9./]*\",\"\",text)\n",
        "    text = re.sub(\"\\n\",\"\",text)\n",
        "    return text"
      ],
      "execution_count": 0,
      "outputs": []
    },
    {
      "cell_type": "code",
      "metadata": {
        "id": "Tcpl5OH-rUh_",
        "colab_type": "code",
        "colab": {}
      },
      "source": [
        "tweet_df['text']=tweet_df['text'].apply(lambda x: clean_tweets(x))"
      ],
      "execution_count": 0,
      "outputs": []
    },
    {
      "cell_type": "code",
      "metadata": {
        "id": "lOuzh0n6rfzB",
        "colab_type": "code",
        "colab": {}
      },
      "source": [
        "tweet_df.head(20)"
      ],
      "execution_count": 0,
      "outputs": []
    },
    {
      "cell_type": "code",
      "metadata": {
        "id": "7y_v9rZjiInN",
        "colab_type": "code",
        "colab": {}
      },
      "source": [
        "tweet_df.to_csv('tweets.csv')"
      ],
      "execution_count": 0,
      "outputs": []
    },
    {
      "cell_type": "code",
      "metadata": {
        "id": "RtQ4Lq9ZipA9",
        "colab_type": "code",
        "colab": {}
      },
      "source": [
        "!ls"
      ],
      "execution_count": 0,
      "outputs": []
    },
    {
      "cell_type": "code",
      "metadata": {
        "id": "f2Sl-XzEsRHK",
        "colab_type": "code",
        "colab": {}
      },
      "source": [
        "import spacy \n",
        "  \n",
        "nlp = spacy.load('en_core_web_sm') "
      ],
      "execution_count": 0,
      "outputs": []
    },
    {
      "cell_type": "code",
      "metadata": {
        "id": "MqIv9AhlsXmM",
        "colab_type": "code",
        "colab": {}
      },
      "source": [
        "tweet_df['text'].apply(lambda x: [print(\"\\tText : {}, Entity : {}\".format(ent.text, ent.label_)) if (not ent.text.startswith('#')) else \"\"  for ent in nlp(x).ents])"
      ],
      "execution_count": 0,
      "outputs": []
    },
    {
      "cell_type": "code",
      "metadata": {
        "id": "65GnQEWNsXYI",
        "colab_type": "code",
        "colab": {}
      },
      "source": [
        "tweet_df['entities']=tweet_df['text'].apply(lambda x: [(ent.text, ent.label_) if (not ent.text.startswith('#')) else \"\" for ent in nlp(x).ents])"
      ],
      "execution_count": 0,
      "outputs": []
    },
    {
      "cell_type": "code",
      "metadata": {
        "id": "uljKlvImaeZz",
        "colab_type": "code",
        "colab": {}
      },
      "source": [
        "tweet_df.head(20)"
      ],
      "execution_count": 0,
      "outputs": []
    },
    {
      "cell_type": "code",
      "metadata": {
        "id": "I9GPD6OFfPEJ",
        "colab_type": "code",
        "colab": {}
      },
      "source": [
        "import nltk\n",
        "from nltk.sentiment.vader import SentimentIntensityAnalyzer\n",
        "nltk.download('vader_lexicon')"
      ],
      "execution_count": 0,
      "outputs": []
    },
    {
      "cell_type": "code",
      "metadata": {
        "id": "E5uf78ExfT8a",
        "colab_type": "code",
        "colab": {}
      },
      "source": [
        "sid = SentimentIntensityAnalyzer()"
      ],
      "execution_count": 0,
      "outputs": []
    },
    {
      "cell_type": "code",
      "metadata": {
        "id": "rqP9TZGwfTqc",
        "colab_type": "code",
        "colab": {}
      },
      "source": [
        "tweet_df['sentiment']=tweet_df['text'].apply(lambda x: sid.polarity_scores(x))"
      ],
      "execution_count": 0,
      "outputs": []
    },
    {
      "cell_type": "code",
      "metadata": {
        "id": "M2KimWx_uONe",
        "colab_type": "code",
        "colab": {}
      },
      "source": [
        "tweet_df.head(10)"
      ],
      "execution_count": 0,
      "outputs": []
    },
    {
      "cell_type": "code",
      "metadata": {
        "id": "kMVlszomLnHX",
        "colab_type": "code",
        "colab": {}
      },
      "source": [
        "!pip install googlemaps"
      ],
      "execution_count": 0,
      "outputs": []
    },
    {
      "cell_type": "code",
      "metadata": {
        "id": "2YQXt3iFuOH-",
        "colab_type": "code",
        "colab": {}
      },
      "source": [
        "import googlemaps"
      ],
      "execution_count": 0,
      "outputs": []
    },
    {
      "cell_type": "code",
      "metadata": {
        "id": "_A3blu8UuOBm",
        "colab_type": "code",
        "colab": {}
      },
      "source": [
        "gmaps = googlemaps.Client(key=config.get('twitter', 'googleapikey'))\n",
        "\n",
        "geocode_result = gmaps.geocode(tweet_df['location'][1])\n",
        "\n",
        "print(geocode_result)\n",
        "print(geocode_result[0]['formatted_address'])\n",
        "\n",
        "print(geocode_result[0]['formatted_address'].split(\",\")[-1].strip())\n",
        "\n"
      ],
      "execution_count": 0,
      "outputs": []
    },
    {
      "cell_type": "code",
      "metadata": {
        "id": "XEyrVhaz6poH",
        "colab_type": "code",
        "colab": {}
      },
      "source": [
        "def get_country(input):\n",
        "  try:\n",
        "    output=gmaps.geocode(input)[0]['formatted_address'].split(\",\")[-1].strip()\n",
        "  except:\n",
        "    output=\"Error\"\n",
        "  return output"
      ],
      "execution_count": 0,
      "outputs": []
    },
    {
      "cell_type": "code",
      "metadata": {
        "id": "oXIco9QopIT9",
        "colab_type": "code",
        "colab": {}
      },
      "source": [
        "tweet_df['country']=tweet_df['location'].apply(lambda x: \"\" if (not x.strip()) else get_country(x))"
      ],
      "execution_count": 0,
      "outputs": []
    },
    {
      "cell_type": "code",
      "metadata": {
        "id": "AugtL0U_866K",
        "colab_type": "code",
        "colab": {}
      },
      "source": [
        "tweet_df['country'].value_counts()"
      ],
      "execution_count": 0,
      "outputs": []
    },
    {
      "cell_type": "code",
      "metadata": {
        "id": "a2pY-lJvpIP5",
        "colab_type": "code",
        "colab": {}
      },
      "source": [
        "tweet_df.head(10)"
      ],
      "execution_count": 0,
      "outputs": []
    },
    {
      "cell_type": "code",
      "metadata": {
        "id": "GuMUcugxNfnn",
        "colab_type": "code",
        "colab": {}
      },
      "source": [
        "tweet_df.dtypes"
      ],
      "execution_count": 0,
      "outputs": []
    },
    {
      "cell_type": "code",
      "metadata": {
        "id": "QKL1NNV9Nfjg",
        "colab_type": "code",
        "colab": {}
      },
      "source": [
        "tweet_df.to_csv(\"tweets.csv\")"
      ],
      "execution_count": 0,
      "outputs": []
    },
    {
      "cell_type": "code",
      "metadata": {
        "id": "yCig89YqNffN",
        "colab_type": "code",
        "colab": {}
      },
      "source": [
        ""
      ],
      "execution_count": 0,
      "outputs": []
    },
    {
      "cell_type": "code",
      "metadata": {
        "id": "6TxBWekUNfbD",
        "colab_type": "code",
        "colab": {}
      },
      "source": [
        ""
      ],
      "execution_count": 0,
      "outputs": []
    },
    {
      "cell_type": "code",
      "metadata": {
        "id": "tq-tYDvTNfXX",
        "colab_type": "code",
        "colab": {}
      },
      "source": [
        ""
      ],
      "execution_count": 0,
      "outputs": []
    },
    {
      "cell_type": "code",
      "metadata": {
        "id": "jGrI5KtONfR_",
        "colab_type": "code",
        "colab": {}
      },
      "source": [
        ""
      ],
      "execution_count": 0,
      "outputs": []
    },
    {
      "cell_type": "code",
      "metadata": {
        "id": "KI79iQ8XNfDv",
        "colab_type": "code",
        "colab": {}
      },
      "source": [
        ""
      ],
      "execution_count": 0,
      "outputs": []
    },
    {
      "cell_type": "code",
      "metadata": {
        "id": "WplHXIcQpIFi",
        "colab_type": "code",
        "colab": {}
      },
      "source": [
        ""
      ],
      "execution_count": 0,
      "outputs": []
    },
    {
      "cell_type": "code",
      "metadata": {
        "id": "cDLW8AUKxdo9",
        "colab_type": "code",
        "colab": {}
      },
      "source": [
        "corona_confirmed_df = pd.read_csv('https://raw.githubusercontent.com/CSSEGISandData/COVID-19/master/csse_covid_19_data/csse_covid_19_time_series/time_series_19-covid-Confirmed.csv')"
      ],
      "execution_count": 0,
      "outputs": []
    },
    {
      "cell_type": "code",
      "metadata": {
        "id": "qEL1RFFhx7fj",
        "colab_type": "code",
        "colab": {}
      },
      "source": [
        "corona_confirmed_df.head()"
      ],
      "execution_count": 0,
      "outputs": []
    },
    {
      "cell_type": "code",
      "metadata": {
        "id": "8QlDkDrhvyrS",
        "colab_type": "code",
        "colab": {}
      },
      "source": [
        "corona_death_df = pd.read_csv('https://raw.githubusercontent.com/CSSEGISandData/COVID-19/master/csse_covid_19_data/csse_covid_19_time_series/time_series_19-covid-Deaths.csv')"
      ],
      "execution_count": 0,
      "outputs": []
    },
    {
      "cell_type": "code",
      "metadata": {
        "id": "UTfIVXgRwBzJ",
        "colab_type": "code",
        "colab": {}
      },
      "source": [
        "corona_death_df.head()"
      ],
      "execution_count": 0,
      "outputs": []
    },
    {
      "cell_type": "code",
      "metadata": {
        "id": "Zp_2vjdA70lw",
        "colab_type": "code",
        "colab": {}
      },
      "source": [
        "corona_recovered_df = pd.read_csv('https://raw.githubusercontent.com/CSSEGISandData/COVID-19/master/csse_covid_19_data/csse_covid_19_time_series/time_series_19-covid-Recovered.csv')"
      ],
      "execution_count": 0,
      "outputs": []
    },
    {
      "cell_type": "code",
      "metadata": {
        "id": "VWw1MPkA77Ls",
        "colab_type": "code",
        "colab": {}
      },
      "source": [
        "corona_recovered_df.head()"
      ],
      "execution_count": 0,
      "outputs": []
    },
    {
      "cell_type": "code",
      "metadata": {
        "id": "4RdVXNp7wD2p",
        "colab_type": "code",
        "colab": {}
      },
      "source": [
        "corona_confirmed_df=corona_confirmed_df.melt(id_vars=['Province/State','Country/Region','Lat','Long'])"
      ],
      "execution_count": 0,
      "outputs": []
    },
    {
      "cell_type": "code",
      "metadata": {
        "id": "E_PVdt7x6HQu",
        "colab_type": "code",
        "colab": {}
      },
      "source": [
        "corona_confirmed_df.head()"
      ],
      "execution_count": 0,
      "outputs": []
    },
    {
      "cell_type": "code",
      "metadata": {
        "id": "oubwC4bJ4aLO",
        "colab_type": "code",
        "colab": {}
      },
      "source": [
        "corona_confirmed_df=corona_confirmed_df.rename({'variable':'Date','value': 'Confirmed'}, axis='columns')"
      ],
      "execution_count": 0,
      "outputs": []
    },
    {
      "cell_type": "code",
      "metadata": {
        "id": "VGH0hpI47oe6",
        "colab_type": "code",
        "colab": {}
      },
      "source": [
        "corona_confirmed_df.head()"
      ],
      "execution_count": 0,
      "outputs": []
    },
    {
      "cell_type": "code",
      "metadata": {
        "id": "CoUZXyrm7t3o",
        "colab_type": "code",
        "colab": {}
      },
      "source": [
        "corona_death_df=corona_death_df.melt(id_vars=['Province/State','Country/Region','Lat','Long'])"
      ],
      "execution_count": 0,
      "outputs": []
    },
    {
      "cell_type": "code",
      "metadata": {
        "id": "zyAf83_zCza2",
        "colab_type": "code",
        "colab": {}
      },
      "source": [
        "corona_death_df=corona_death_df.rename({'variable':'Date','value': 'Death'}, axis='columns')"
      ],
      "execution_count": 0,
      "outputs": []
    },
    {
      "cell_type": "code",
      "metadata": {
        "id": "O5x1c_Y1C5bS",
        "colab_type": "code",
        "colab": {}
      },
      "source": [
        "corona_death_df.head()"
      ],
      "execution_count": 0,
      "outputs": []
    },
    {
      "cell_type": "code",
      "metadata": {
        "id": "yYYbeKU99WMy",
        "colab_type": "code",
        "colab": {}
      },
      "source": [
        "corona_recovered_df=corona_recovered_df.melt(id_vars=['Province/State','Country/Region','Lat','Long']).rename({'variable':'Date','value': 'Recovered'}, axis='columns')"
      ],
      "execution_count": 0,
      "outputs": []
    },
    {
      "cell_type": "code",
      "metadata": {
        "id": "uOBI9p0397sF",
        "colab_type": "code",
        "colab": {}
      },
      "source": [
        "corona_recovered_df.head()"
      ],
      "execution_count": 0,
      "outputs": []
    },
    {
      "cell_type": "code",
      "metadata": {
        "id": "tIm2uApT9_GF",
        "colab_type": "code",
        "colab": {}
      },
      "source": [
        "combined_df = [corona_confirmed_df, corona_death_df, corona_recovered_df]\n",
        "combined_df = [df.set_index(['Province/State','Country/Region','Lat','Long','Date']) for df in combined_df]\n",
        "combined_df=combined_df[0].join(combined_df[1:])"
      ],
      "execution_count": 0,
      "outputs": []
    },
    {
      "cell_type": "code",
      "metadata": {
        "id": "SLpneDMG_XK4",
        "colab_type": "code",
        "colab": {}
      },
      "source": [
        "combined_df.head()"
      ],
      "execution_count": 0,
      "outputs": []
    },
    {
      "cell_type": "code",
      "metadata": {
        "id": "lW0As0oq_30i",
        "colab_type": "code",
        "colab": {}
      },
      "source": [
        "combined_df=combined_df.reset_index()"
      ],
      "execution_count": 0,
      "outputs": []
    },
    {
      "cell_type": "code",
      "metadata": {
        "id": "z0GQZCGqAKPA",
        "colab_type": "code",
        "colab": {}
      },
      "source": [
        "combined_df.head()"
      ],
      "execution_count": 0,
      "outputs": []
    },
    {
      "cell_type": "code",
      "metadata": {
        "id": "25DTI342AQ97",
        "colab_type": "code",
        "colab": {}
      },
      "source": [
        "combined_df[['Lat', 'Long','Confirmed','Death','Recovered']] = combined_df[['Lat', 'Long','Confirmed','Death','Recovered']].apply(pd.to_numeric) "
      ],
      "execution_count": 0,
      "outputs": []
    },
    {
      "cell_type": "code",
      "metadata": {
        "id": "3vxX9-SOF93f",
        "colab_type": "code",
        "colab": {}
      },
      "source": [
        "combined_df[['Date']] = combined_df[['Date']].apply(pd.to_datetime)"
      ],
      "execution_count": 0,
      "outputs": []
    },
    {
      "cell_type": "code",
      "metadata": {
        "id": "1kxSjq8JF2vs",
        "colab_type": "code",
        "colab": {}
      },
      "source": [
        "combined_df.dtypes"
      ],
      "execution_count": 0,
      "outputs": []
    },
    {
      "cell_type": "code",
      "metadata": {
        "id": "UuH48Ja1F772",
        "colab_type": "code",
        "colab": {}
      },
      "source": [
        "combined_df.head()"
      ],
      "execution_count": 0,
      "outputs": []
    },
    {
      "cell_type": "code",
      "metadata": {
        "id": "G2HqzA19yaWQ",
        "colab_type": "code",
        "colab": {}
      },
      "source": [
        "combined_df.to_csv('corona_dataset.csv')"
      ],
      "execution_count": 0,
      "outputs": []
    },
    {
      "cell_type": "code",
      "metadata": {
        "id": "AxuGr9qCh1Vg",
        "colab_type": "code",
        "colab": {}
      },
      "source": [
        "combined_df=combined_df.rename({'Province/State':'State','Country/Region': 'Country'}, axis='columns')"
      ],
      "execution_count": 0,
      "outputs": []
    },
    {
      "cell_type": "code",
      "metadata": {
        "id": "aYwQc56Hh9u7",
        "colab_type": "code",
        "colab": {}
      },
      "source": [
        "combined_df.head()"
      ],
      "execution_count": 0,
      "outputs": []
    },
    {
      "cell_type": "code",
      "metadata": {
        "id": "nT71HaeIhQT4",
        "colab_type": "code",
        "colab": {}
      },
      "source": [
        "combined_df.set_index('Country').filter(like=\"India\", axis=0)"
      ],
      "execution_count": 0,
      "outputs": []
    },
    {
      "cell_type": "code",
      "metadata": {
        "id": "Bd7RKSvIqUpz",
        "colab_type": "code",
        "colab": {}
      },
      "source": [
        "combined_df[combined_df.State.isnull()]['Country'].value_counts()"
      ],
      "execution_count": 0,
      "outputs": []
    },
    {
      "cell_type": "code",
      "metadata": {
        "id": "nFpXivL0qUdo",
        "colab_type": "code",
        "colab": {}
      },
      "source": [
        ""
      ],
      "execution_count": 0,
      "outputs": []
    },
    {
      "cell_type": "code",
      "metadata": {
        "id": "p4qYs2Y7y4eg",
        "colab_type": "code",
        "colab": {}
      },
      "source": [
        ""
      ],
      "execution_count": 0,
      "outputs": []
    },
    {
      "cell_type": "code",
      "metadata": {
        "id": "mGnl1yck8c2x",
        "colab_type": "code",
        "colab": {}
      },
      "source": [
        "!pip install -U googlemaps"
      ],
      "execution_count": 0,
      "outputs": []
    },
    {
      "cell_type": "code",
      "metadata": {
        "id": "NQNnE6qD8jO0",
        "colab_type": "code",
        "colab": {}
      },
      "source": [
        "import googlemaps"
      ],
      "execution_count": 0,
      "outputs": []
    },
    {
      "cell_type": "code",
      "metadata": {
        "id": "8LQKyPwp8jId",
        "colab_type": "code",
        "colab": {}
      },
      "source": [
        "gmaps = googlemaps.Client(key=config.get('twitter', 'googleapikey'))\n",
        "\n",
        "geocode_result = gmaps.reverse_geocode((-23.4425, -58.4438))\n",
        "\n",
        "print(geocode_result[0])\n",
        "print(geocode_result[0]['formatted_address'])\n",
        "print(geocode_result[0]['formatted_address'].split(\",\")[-2].strip(\" \"))"
      ],
      "execution_count": 0,
      "outputs": []
    },
    {
      "cell_type": "code",
      "metadata": {
        "id": "3kowHK_g1jLK",
        "colab_type": "code",
        "colab": {}
      },
      "source": [
        "def get_state(lat, longi):\n",
        "  try:\n",
        "    output=gmaps.reverse_geocode((lat, longi))[0]['formatted_address'].split(\",\")[-2].strip()\n",
        "  except:\n",
        "    output=\"Error\"\n",
        "  return output"
      ],
      "execution_count": 0,
      "outputs": []
    },
    {
      "cell_type": "code",
      "metadata": {
        "id": "B7TglxHs8i19",
        "colab_type": "code",
        "colab": {}
      },
      "source": [
        "combined_df[combined_df.State.isnull()][['Lat','Long']][0:10].apply(lambda x : print(get_state(x['Lat'], x['Long'])),axis=1)\n",
        "\n",
        "#print(geocode_result[0]['formatted_address'].split(\",\")[-2].strip(\" \"))"
      ],
      "execution_count": 0,
      "outputs": []
    },
    {
      "cell_type": "code",
      "metadata": {
        "id": "bkND_acm3bA8",
        "colab_type": "code",
        "colab": {}
      },
      "source": [
        "combined_df[combined_df.State.isnull()][['Lat','Long']][0:2].apply(lambda x : print(gmaps.reverse_geocode((x['Lat'], x['Long']))),axis=1)"
      ],
      "execution_count": 0,
      "outputs": []
    },
    {
      "cell_type": "code",
      "metadata": {
        "id": "AWS6Yl8cGNTD",
        "colab_type": "code",
        "colab": {}
      },
      "source": [
        "from bs4 import BeautifulSoup\n",
        "import requests"
      ],
      "execution_count": 0,
      "outputs": []
    },
    {
      "cell_type": "code",
      "metadata": {
        "id": "19vVLfGhmKSe",
        "colab_type": "code",
        "colab": {}
      },
      "source": [
        "url='https://www.cnn.com/world/live-news/coronavirus-outbreak-03-10-20-intl-hnk/index.html'"
      ],
      "execution_count": 0,
      "outputs": []
    },
    {
      "cell_type": "code",
      "metadata": {
        "id": "nR9o3e9Jn1zT",
        "colab_type": "code",
        "colab": {}
      },
      "source": [
        "html = requests.get(url).text"
      ],
      "execution_count": 0,
      "outputs": []
    },
    {
      "cell_type": "code",
      "metadata": {
        "id": "qUAzS8Kun-TZ",
        "colab_type": "code",
        "colab": {}
      },
      "source": [
        "soup = BeautifulSoup(html)\n",
        "print(soup.title)"
      ],
      "execution_count": 0,
      "outputs": []
    },
    {
      "cell_type": "code",
      "metadata": {
        "id": "13pEAapsSVoo",
        "colab_type": "code",
        "colab": {}
      },
      "source": [
        "import spacy \n",
        "  \n",
        "nlp = spacy.load('en_core_web_sm') "
      ],
      "execution_count": 0,
      "outputs": []
    },
    {
      "cell_type": "code",
      "metadata": {
        "id": "AWmpxjV2oSZy",
        "colab_type": "code",
        "colab": {}
      },
      "source": [
        "for link in soup.find_all(\"h2\"):\n",
        "    \n",
        "    print(\"Headline : {}\".format(link.text))\n",
        "    for ent in nlp(link.text).ents: \n",
        "      print(\"\\tText : {}, Entity : {}\".format(ent.text, ent.label_)) \n",
        "\n"
      ],
      "execution_count": 0,
      "outputs": []
    },
    {
      "cell_type": "code",
      "metadata": {
        "id": "5zm1t8tEouwj",
        "colab_type": "code",
        "colab": {}
      },
      "source": [
        "urls=['https://www.cnn.com/world/live-news/coronavirus-outbreak-03-10-20-intl-hnk/index.html','https://www.nbcnews.com/health/health-news/live-blog/coronavirus-updates-live-u-s-europe-brace-infection-spread-italy-n1153801']"
      ],
      "execution_count": 0,
      "outputs": []
    },
    {
      "cell_type": "code",
      "metadata": {
        "id": "44GWgIGiVmn1",
        "colab_type": "code",
        "colab": {}
      },
      "source": [
        "for url in urls:\n",
        "    response = requests.get(url)\n",
        "    soup = BeautifulSoup(response.content)\n",
        "\n",
        "    for link in soup.find_all(\"h2\"):\n",
        "      print(\"Headline : {}\".format(link.text))\n",
        "\n",
        "      entities=[]\n",
        "      for ent in nlp(link.text).ents: \n",
        "        print(\"\\tText : {}, Entity : {}\".format(ent.text, ent.label_)) "
      ],
      "execution_count": 0,
      "outputs": []
    },
    {
      "cell_type": "code",
      "metadata": {
        "id": "cks_wvvQWZZe",
        "colab_type": "code",
        "colab": {}
      },
      "source": [
        ""
      ],
      "execution_count": 0,
      "outputs": []
    }
  ]
}