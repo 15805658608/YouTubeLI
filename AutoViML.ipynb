{
  "nbformat": 4,
  "nbformat_minor": 0,
  "metadata": {
    "colab": {
      "name": "AutoViML.ipynb",
      "provenance": [],
      "include_colab_link": true
    },
    "kernelspec": {
      "name": "python3",
      "display_name": "Python 3"
    }
  },
  "cells": [
    {
      "cell_type": "markdown",
      "metadata": {
        "id": "view-in-github",
        "colab_type": "text"
      },
      "source": [
        "<a href=\"https://colab.research.google.com/github/srivatsan88/YouTubeLI/blob/master/AutoViML.ipynb\" target=\"_parent\"><img src=\"https://colab.research.google.com/assets/colab-badge.svg\" alt=\"Open In Colab\"/></a>"
      ]
    },
    {
      "cell_type": "markdown",
      "metadata": {
        "id": "Ydtu2LgJT7RP",
        "colab_type": "text"
      },
      "source": [
        "This notebook purpose is to try out AutoViML package created by Ram Seshadri. The project is available on github below\n",
        "\n",
        "https://github.com/AutoViML/Auto_ViML\n"
      ]
    },
    {
      "cell_type": "code",
      "metadata": {
        "id": "kbHRfwu_CTJP",
        "colab_type": "code",
        "colab": {}
      },
      "source": [
        "!pip install autoviml"
      ],
      "execution_count": 0,
      "outputs": []
    },
    {
      "cell_type": "code",
      "metadata": {
        "id": "kNEGwU3oU00R",
        "colab_type": "code",
        "colab": {}
      },
      "source": [
        "!pip install shap"
      ],
      "execution_count": 0,
      "outputs": []
    },
    {
      "cell_type": "code",
      "metadata": {
        "id": "wYsohgWlDB8X",
        "colab_type": "code",
        "colab": {}
      },
      "source": [
        "from __future__ import print_function\n",
        "import sys,tempfile, urllib, os\n",
        "import pandas as pd"
      ],
      "execution_count": 0,
      "outputs": []
    },
    {
      "cell_type": "code",
      "metadata": {
        "id": "elkIXKcHC06h",
        "colab_type": "code",
        "colab": {}
      },
      "source": [
        "BASE_DIR = '/tmp'\n",
        "OUTPUT_FILE = os.path.join(BASE_DIR, 'churn_data.csv')"
      ],
      "execution_count": 0,
      "outputs": []
    },
    {
      "cell_type": "code",
      "metadata": {
        "id": "cjq6fldrDI5b",
        "colab_type": "code",
        "colab": {}
      },
      "source": [
        "churn_data=urllib.request.urlretrieve('https://raw.githubusercontent.com/srivatsan88/YouTubeLI/master/dataset/WA_Fn-UseC_-Telco-Customer-Churn.csv', OUTPUT_FILE)"
      ],
      "execution_count": 0,
      "outputs": []
    },
    {
      "cell_type": "code",
      "metadata": {
        "id": "esk0QhacDQEj",
        "colab_type": "code",
        "colab": {}
      },
      "source": [
        "churn_df = pd.read_csv(OUTPUT_FILE)"
      ],
      "execution_count": 0,
      "outputs": []
    },
    {
      "cell_type": "code",
      "metadata": {
        "id": "cwaOT3fCDVR8",
        "colab_type": "code",
        "outputId": "81626d78-dc79-4e27-b92d-4732aa15363c",
        "colab": {
          "base_uri": "https://localhost:8080/",
          "height": 309
        }
      },
      "source": [
        "churn_df.head()"
      ],
      "execution_count": 7,
      "outputs": [
        {
          "output_type": "execute_result",
          "data": {
            "text/html": [
              "<div>\n",
              "<style scoped>\n",
              "    .dataframe tbody tr th:only-of-type {\n",
              "        vertical-align: middle;\n",
              "    }\n",
              "\n",
              "    .dataframe tbody tr th {\n",
              "        vertical-align: top;\n",
              "    }\n",
              "\n",
              "    .dataframe thead th {\n",
              "        text-align: right;\n",
              "    }\n",
              "</style>\n",
              "<table border=\"1\" class=\"dataframe\">\n",
              "  <thead>\n",
              "    <tr style=\"text-align: right;\">\n",
              "      <th></th>\n",
              "      <th>customerID</th>\n",
              "      <th>gender</th>\n",
              "      <th>SeniorCitizen</th>\n",
              "      <th>Partner</th>\n",
              "      <th>Dependents</th>\n",
              "      <th>tenure</th>\n",
              "      <th>PhoneService</th>\n",
              "      <th>MultipleLines</th>\n",
              "      <th>InternetService</th>\n",
              "      <th>OnlineSecurity</th>\n",
              "      <th>OnlineBackup</th>\n",
              "      <th>DeviceProtection</th>\n",
              "      <th>TechSupport</th>\n",
              "      <th>StreamingTV</th>\n",
              "      <th>StreamingMovies</th>\n",
              "      <th>Contract</th>\n",
              "      <th>PaperlessBilling</th>\n",
              "      <th>PaymentMethod</th>\n",
              "      <th>MonthlyCharges</th>\n",
              "      <th>TotalCharges</th>\n",
              "      <th>Churn</th>\n",
              "    </tr>\n",
              "  </thead>\n",
              "  <tbody>\n",
              "    <tr>\n",
              "      <th>0</th>\n",
              "      <td>7590-VHVEG</td>\n",
              "      <td>Female</td>\n",
              "      <td>0</td>\n",
              "      <td>Yes</td>\n",
              "      <td>No</td>\n",
              "      <td>1</td>\n",
              "      <td>No</td>\n",
              "      <td>No phone service</td>\n",
              "      <td>DSL</td>\n",
              "      <td>No</td>\n",
              "      <td>Yes</td>\n",
              "      <td>No</td>\n",
              "      <td>No</td>\n",
              "      <td>No</td>\n",
              "      <td>No</td>\n",
              "      <td>Month-to-month</td>\n",
              "      <td>Yes</td>\n",
              "      <td>Electronic check</td>\n",
              "      <td>29.85</td>\n",
              "      <td>29.85</td>\n",
              "      <td>No</td>\n",
              "    </tr>\n",
              "    <tr>\n",
              "      <th>1</th>\n",
              "      <td>5575-GNVDE</td>\n",
              "      <td>Male</td>\n",
              "      <td>0</td>\n",
              "      <td>No</td>\n",
              "      <td>No</td>\n",
              "      <td>34</td>\n",
              "      <td>Yes</td>\n",
              "      <td>No</td>\n",
              "      <td>DSL</td>\n",
              "      <td>Yes</td>\n",
              "      <td>No</td>\n",
              "      <td>Yes</td>\n",
              "      <td>No</td>\n",
              "      <td>No</td>\n",
              "      <td>No</td>\n",
              "      <td>One year</td>\n",
              "      <td>No</td>\n",
              "      <td>Mailed check</td>\n",
              "      <td>56.95</td>\n",
              "      <td>1889.5</td>\n",
              "      <td>No</td>\n",
              "    </tr>\n",
              "    <tr>\n",
              "      <th>2</th>\n",
              "      <td>3668-QPYBK</td>\n",
              "      <td>Male</td>\n",
              "      <td>0</td>\n",
              "      <td>No</td>\n",
              "      <td>No</td>\n",
              "      <td>2</td>\n",
              "      <td>Yes</td>\n",
              "      <td>No</td>\n",
              "      <td>DSL</td>\n",
              "      <td>Yes</td>\n",
              "      <td>Yes</td>\n",
              "      <td>No</td>\n",
              "      <td>No</td>\n",
              "      <td>No</td>\n",
              "      <td>No</td>\n",
              "      <td>Month-to-month</td>\n",
              "      <td>Yes</td>\n",
              "      <td>Mailed check</td>\n",
              "      <td>53.85</td>\n",
              "      <td>108.15</td>\n",
              "      <td>Yes</td>\n",
              "    </tr>\n",
              "    <tr>\n",
              "      <th>3</th>\n",
              "      <td>7795-CFOCW</td>\n",
              "      <td>Male</td>\n",
              "      <td>0</td>\n",
              "      <td>No</td>\n",
              "      <td>No</td>\n",
              "      <td>45</td>\n",
              "      <td>No</td>\n",
              "      <td>No phone service</td>\n",
              "      <td>DSL</td>\n",
              "      <td>Yes</td>\n",
              "      <td>No</td>\n",
              "      <td>Yes</td>\n",
              "      <td>Yes</td>\n",
              "      <td>No</td>\n",
              "      <td>No</td>\n",
              "      <td>One year</td>\n",
              "      <td>No</td>\n",
              "      <td>Bank transfer (automatic)</td>\n",
              "      <td>42.30</td>\n",
              "      <td>1840.75</td>\n",
              "      <td>No</td>\n",
              "    </tr>\n",
              "    <tr>\n",
              "      <th>4</th>\n",
              "      <td>9237-HQITU</td>\n",
              "      <td>Female</td>\n",
              "      <td>0</td>\n",
              "      <td>No</td>\n",
              "      <td>No</td>\n",
              "      <td>2</td>\n",
              "      <td>Yes</td>\n",
              "      <td>No</td>\n",
              "      <td>Fiber optic</td>\n",
              "      <td>No</td>\n",
              "      <td>No</td>\n",
              "      <td>No</td>\n",
              "      <td>No</td>\n",
              "      <td>No</td>\n",
              "      <td>No</td>\n",
              "      <td>Month-to-month</td>\n",
              "      <td>Yes</td>\n",
              "      <td>Electronic check</td>\n",
              "      <td>70.70</td>\n",
              "      <td>151.65</td>\n",
              "      <td>Yes</td>\n",
              "    </tr>\n",
              "  </tbody>\n",
              "</table>\n",
              "</div>"
            ],
            "text/plain": [
              "   customerID  gender  SeniorCitizen  ... MonthlyCharges TotalCharges  Churn\n",
              "0  7590-VHVEG  Female              0  ...          29.85        29.85     No\n",
              "1  5575-GNVDE    Male              0  ...          56.95       1889.5     No\n",
              "2  3668-QPYBK    Male              0  ...          53.85       108.15    Yes\n",
              "3  7795-CFOCW    Male              0  ...          42.30      1840.75     No\n",
              "4  9237-HQITU  Female              0  ...          70.70       151.65    Yes\n",
              "\n",
              "[5 rows x 21 columns]"
            ]
          },
          "metadata": {
            "tags": []
          },
          "execution_count": 7
        }
      ]
    },
    {
      "cell_type": "code",
      "metadata": {
        "id": "RAkXBnJkDYoB",
        "colab_type": "code",
        "colab": {}
      },
      "source": [
        "size = int(0.7*churn_df.shape[0])\n",
        "train_df = churn_df[:size]\n",
        "test_df = churn_df[size:]"
      ],
      "execution_count": 0,
      "outputs": []
    },
    {
      "cell_type": "code",
      "metadata": {
        "id": "IJEeNCNQEn2c",
        "colab_type": "code",
        "colab": {}
      },
      "source": [
        "from autoviml.Auto_ViML import Auto_ViML"
      ],
      "execution_count": 0,
      "outputs": []
    },
    {
      "cell_type": "code",
      "metadata": {
        "id": "T3tKIdKGFUpQ",
        "colab_type": "code",
        "colab": {}
      },
      "source": [
        "target='Churn'"
      ],
      "execution_count": 0,
      "outputs": []
    },
    {
      "cell_type": "code",
      "metadata": {
        "id": "CT3wE4N7FNvf",
        "colab_type": "code",
        "outputId": "66476d4d-4ab1-490d-83b3-03b03bba7e53",
        "colab": {
          "base_uri": "https://localhost:8080/",
          "height": 1000
        }
      },
      "source": [
        "model, features, trainm, testm = Auto_ViML(train_df, target, test_df, sample_submission='',\n",
        "                                    scoring_parameter='',\n",
        "                                    hyper_param='RS',feature_reduction=True,\n",
        "                                    Boosting_Flag=True,Binning_Flag=False,\n",
        "                                    Add_Poly=0, Stacking_Flag=False, \n",
        "                                    Imbalanced_Flag=True, \n",
        "                                    verbose=1)"
      ],
      "execution_count": 11,
      "outputs": [
        {
          "output_type": "stream",
          "text": [
            "Train (Size: 4930,21) has Single_Label with target: ['Churn']\n",
            "\"\n",
            " ################### Binary-Class ##################### \" \n",
            "Shuffling the data set before training\n",
            " Class  -> Counts -> Percent\n",
            "   Yes:    1289  ->   26.1%\n",
            "    No:    3641  ->   73.9%\n",
            "Selecting 2-Class Classifier...\n",
            "    Using RandomizedSearchCV for Hyper Parameter Tuning. This will take time...\n",
            "String or Multi Class target: Churn transformed as follows: {'No': 0, 'Yes': 1}\n",
            "Classifying variables in data set...\n",
            "    Number of Numeric Columns =  1\n",
            "    Number of Integer-Categorical Columns =  1\n",
            "    Number of String-Categorical Columns =  10\n",
            "    Number of Factor-Categorical Columns =  0\n",
            "    Number of String-Boolean Columns =  5\n",
            "    Number of Numeric-Boolean Columns =  1\n",
            "    Number of Discrete String Columns =  1\n",
            "    Number of NLP String Columns =  0\n",
            "    Number of Date Time Columns =  0\n",
            "    Number of ID Columns =  1\n",
            "    Number of Columns to Delete =  0\n",
            "    20 Predictors classified...\n",
            "        This does not include the Target column(s)\n",
            "    1 variables removed since they were some ID or low-information variables\n",
            "Test data has no missing values...\n",
            "Number of numeric variables = 1\n",
            "    No variables were removed since no highly correlated variables found in data\n",
            "\n",
            "Target Ready for Modeling: Churn\n",
            "Starting Feature Engg, Extraction and Model Training for target Churn and 19 predictors\n",
            "Number of numeric variables = 1\n",
            "    No variables were removed since no highly correlated variables found in data\n",
            "    Adding 18 categorical variables to reduced numeric variables  of 1\n",
            "Selected No. of variables = 19 \n",
            "Finding Important Features...\n",
            "        in 19 variables\n",
            "        in 15 variables\n",
            "        in 11 variables\n",
            "        in 7 variables\n",
            "        in 3 variables\n",
            "    Found 19 important features\n",
            "Leaving Top 1 continuous variables as is...\n",
            "    No Entropy Binning specified\n",
            "Rows in Train data set = 4437\n",
            "Features in Train data set = 19\n",
            "    Rows in held-out data set = 493\n",
            "Finding Best Model and Hyper Parameters for Target: Churn...\n",
            "Baseline Accuracy Needed for Model = 73.85%\n",
            "\n",
            "Using XGBoost Model, Estimated Training time = 2.8 mins\n",
            "\n",
            "Imbalanced Class Training using Majority Class Downsampling method...\n",
            "Rare Class = 1\n",
            "    Pct of Rare Class in data = 26.10%\n",
            "    Number of iterations for training =  1\n",
            "  Rare Class Batch Size = 1158\n",
            "  Majority Class Batch Size = 3279\n",
            "     1. Training Batch Size = 4437\n",
            "        Training Batch incident rate: 26.1%\n",
            "             Batch Training completed\n",
            "        Time Taken = 17 (in seconds)\n",
            "    Hyper Tuned  Accuracy = 57.5%\n",
            "Model Best Parameters = {'n_estimators': 350, 'max_depth': 5, 'learning_rate': 0.1, 'gamma': 0}\n",
            "Finding Best Threshold for Highest F1 Score...\n",
            "    Found Optimal Threshold as 0.38 for Best F1: 0.64\n",
            "XGBoost Model Results on Held Out Data Set:\n",
            "    Balanced Accuracy Score = 81.5%\n",
            "              precision    recall  f1-score   support\n",
            "\n",
            "           0       0.87      0.89      0.88       362\n",
            "           1       0.66      0.62      0.64       131\n",
            "\n",
            "    accuracy                           0.82       493\n",
            "   macro avg       0.76      0.75      0.76       493\n",
            "weighted avg       0.81      0.82      0.81       493\n",
            "\n",
            "[[321  41]\n",
            " [ 50  81]]\n",
            "    Time taken for Ensembling: 1.8 seconds\n",
            "########################################################\n",
            "Completed Ensemble predictions on held out data\n"
          ],
          "name": "stdout"
        },
        {
          "output_type": "display_data",
          "data": {
            "image/png": "[encoded data removed]",
            "text/plain": [
              "<Figure size 720x432 with 1 Axes>"
            ]
          },
          "metadata": {
            "tags": []
          }
        },
        {
          "output_type": "stream",
          "text": [
            "Average precision-recall score: 0.80\n",
            "Macro F1 score, averaged over all classes: 0.72\n"
          ],
          "name": "stdout"
        },
        {
          "output_type": "display_data",
          "data": {
            "image/png": "[encoded data removed]",
            "text/plain": [
              "<Figure size 720x432 with 1 Axes>"
            ]
          },
          "metadata": {
            "tags": []
          }
        },
        {
          "output_type": "stream",
          "text": [
            "After multiple models, Ensemble Model Results:\n",
            "    Balanced Accuracy Score = 82.556%\n",
            "              precision    recall  f1-score   support\n",
            "\n",
            "           0       0.87      0.90      0.88       362\n",
            "           1       0.69      0.62      0.65       131\n",
            "\n",
            "    accuracy                           0.83       493\n",
            "   macro avg       0.78      0.76      0.77       493\n",
            "weighted avg       0.82      0.83      0.82       493\n",
            "\n",
            "[[326  36]\n",
            " [ 50  81]]\n",
            "\n",
            "Ensembling Models is better than Single Model for this data set.\n"
          ],
          "name": "stdout"
        },
        {
          "output_type": "display_data",
          "data": {
            "image/png": "[encoded data removed]",
            "text/plain": [
              "<Figure size 720x360 with 1 Axes>"
            ]
          },
          "metadata": {
            "tags": []
          }
        },
        {
          "output_type": "stream",
          "text": [
            "    Time taken for this Target (in seconds) = 22\n"
          ],
          "name": "stdout"
        },
        {
          "output_type": "display_data",
          "data": {
            "image/png": "[encoded data removed]",
            "text/plain": [
              "<Figure size 576x655.2 with 2 Axes>"
            ]
          },
          "metadata": {
            "tags": []
          }
        },
        {
          "output_type": "stream",
          "text": [
            "Plotting SHAP (SHapley Additive exPlanations) values to explain the output of model\n",
            "\n",
            "###################################################################################\n",
            "Training model on complete Train data and Predicting using give Test Data...\n",
            "Leaving Top 1 continuous variables as is...\n",
            "    No Entropy Binning specified\n",
            "Number of numeric variables = 1\n",
            "    No variables were removed since no highly correlated variables found in data\n",
            "    Adding 18 categorical variables to reduced numeric variables  of 1\n",
            "Selected No. of variables = 19 \n",
            "Finding Important Features...\n",
            "        in 19 variables\n",
            "        in 15 variables\n",
            "        in 11 variables\n",
            "        in 7 variables\n",
            "        in 3 variables\n",
            "    Found 19 important features\n",
            "\n",
            "Imbalanced Class Training using Majority Class Downsampling method...\n",
            "Rare Class = 1\n",
            "    Pct of Rare Class in data = 26.26%\n",
            "    Number of iterations for training =  1\n",
            "  Rare Class Batch Size = 1165\n",
            "  Majority Class Batch Size = 3272\n",
            "     1. Training Batch Size = 4437\n",
            "        Training Batch incident rate: 26.3%\n",
            "             Batch Training completed\n",
            "        Time Taken = 0 (in seconds)\n",
            "Test Data predictions using Best Threshold = 0.38\n",
            "QuickML_Ensembling completed.\n",
            "    Time taken for Ensembling: 1.8 seconds\n",
            "########################################################\n",
            "Completed Ensemble predictions on held out data\n",
            "    Adding output files to current folder: ./Churn/Churn_Binary_Classification_test_modified.csv\n",
            "    Adding output files to current folder: ./Churn/Churn_Binary_Classification_submission.csv\n",
            "    Adding output files to current folder: ./Churn/Churn_Binary_Classification_train_modified.csv\n",
            "Time Taken in mins = 0.5 for the Entire Process\n"
          ],
          "name": "stdout"
        },
        {
          "output_type": "display_data",
          "data": {
            "image/png": "[encoded data removed]",
            "text/plain": [
              "<Figure size 720x432 with 1 Axes>"
            ]
          },
          "metadata": {
            "tags": []
          }
        }
      ]
    },
    {
      "cell_type": "code",
      "metadata": {
        "id": "wg-qo8naI9pU",
        "colab_type": "code",
        "colab": {}
      },
      "source": [
        "from sklearn.metrics import classification_report, confusion_matrix"
      ],
      "execution_count": 0,
      "outputs": []
    },
    {
      "cell_type": "code",
      "metadata": {
        "id": "WmKtpTtbKmgL",
        "colab_type": "code",
        "outputId": "18dfbade-da7f-47ef-86f6-a05352c123aa",
        "colab": {
          "base_uri": "https://localhost:8080/",
          "height": 453
        }
      },
      "source": [
        "testm"
      ],
      "execution_count": 13,
      "outputs": [
        {
          "output_type": "execute_result",
          "data": {
            "text/html": [
              "<div>\n",
              "<style scoped>\n",
              "    .dataframe tbody tr th:only-of-type {\n",
              "        vertical-align: middle;\n",
              "    }\n",
              "\n",
              "    .dataframe tbody tr th {\n",
              "        vertical-align: top;\n",
              "    }\n",
              "\n",
              "    .dataframe thead th {\n",
              "        text-align: right;\n",
              "    }\n",
              "</style>\n",
              "<table border=\"1\" class=\"dataframe\">\n",
              "  <thead>\n",
              "    <tr style=\"text-align: right;\">\n",
              "      <th></th>\n",
              "      <th>Contract</th>\n",
              "      <th>TechSupport</th>\n",
              "      <th>OnlineSecurity</th>\n",
              "      <th>tenure</th>\n",
              "      <th>InternetService</th>\n",
              "      <th>PaymentMethod</th>\n",
              "      <th>PaperlessBilling</th>\n",
              "      <th>DeviceProtection</th>\n",
              "      <th>MonthlyCharges</th>\n",
              "      <th>MultipleLines</th>\n",
              "      <th>OnlineBackup</th>\n",
              "      <th>Dependents</th>\n",
              "      <th>StreamingTV</th>\n",
              "      <th>Partner</th>\n",
              "      <th>SeniorCitizen</th>\n",
              "      <th>TotalCharges</th>\n",
              "      <th>StreamingMovies</th>\n",
              "      <th>gender</th>\n",
              "      <th>PhoneService</th>\n",
              "      <th>Class_proba_No</th>\n",
              "      <th>Class_proba_Yes</th>\n",
              "      <th>Churn_Logistic Regression_predictions</th>\n",
              "      <th>Churn_Linear Discriminant_predictions</th>\n",
              "      <th>Churn_Naive Bayes_predictions</th>\n",
              "      <th>Churn_Bagging_predictions</th>\n",
              "      <th>Churn_XGBoost_predictions</th>\n",
              "      <th>Churn_Ensembled_predictions</th>\n",
              "    </tr>\n",
              "  </thead>\n",
              "  <tbody>\n",
              "    <tr>\n",
              "      <th>4930</th>\n",
              "      <td>0</td>\n",
              "      <td>0</td>\n",
              "      <td>0</td>\n",
              "      <td>1</td>\n",
              "      <td>0</td>\n",
              "      <td>3</td>\n",
              "      <td>0</td>\n",
              "      <td>0</td>\n",
              "      <td>0.261692</td>\n",
              "      <td>1</td>\n",
              "      <td>1</td>\n",
              "      <td>0</td>\n",
              "      <td>0</td>\n",
              "      <td>1</td>\n",
              "      <td>0</td>\n",
              "      <td>3638</td>\n",
              "      <td>0</td>\n",
              "      <td>0</td>\n",
              "      <td>1</td>\n",
              "      <td>0.532735</td>\n",
              "      <td>0.467265</td>\n",
              "      <td>No</td>\n",
              "      <td>No</td>\n",
              "      <td>Yes</td>\n",
              "      <td>No</td>\n",
              "      <td>Yes</td>\n",
              "      <td>No</td>\n",
              "    </tr>\n",
              "    <tr>\n",
              "      <th>4931</th>\n",
              "      <td>0</td>\n",
              "      <td>1</td>\n",
              "      <td>0</td>\n",
              "      <td>15</td>\n",
              "      <td>1</td>\n",
              "      <td>0</td>\n",
              "      <td>0</td>\n",
              "      <td>1</td>\n",
              "      <td>0.847761</td>\n",
              "      <td>2</td>\n",
              "      <td>1</td>\n",
              "      <td>0</td>\n",
              "      <td>1</td>\n",
              "      <td>0</td>\n",
              "      <td>0</td>\n",
              "      <td>4654</td>\n",
              "      <td>1</td>\n",
              "      <td>1</td>\n",
              "      <td>1</td>\n",
              "      <td>0.295689</td>\n",
              "      <td>0.704311</td>\n",
              "      <td>Yes</td>\n",
              "      <td>Yes</td>\n",
              "      <td>Yes</td>\n",
              "      <td>Yes</td>\n",
              "      <td>Yes</td>\n",
              "      <td>Yes</td>\n",
              "    </tr>\n",
              "    <tr>\n",
              "      <th>4932</th>\n",
              "      <td>1</td>\n",
              "      <td>0</td>\n",
              "      <td>1</td>\n",
              "      <td>27</td>\n",
              "      <td>1</td>\n",
              "      <td>3</td>\n",
              "      <td>0</td>\n",
              "      <td>0</td>\n",
              "      <td>0.620896</td>\n",
              "      <td>1</td>\n",
              "      <td>0</td>\n",
              "      <td>1</td>\n",
              "      <td>0</td>\n",
              "      <td>0</td>\n",
              "      <td>0</td>\n",
              "      <td>4655</td>\n",
              "      <td>0</td>\n",
              "      <td>1</td>\n",
              "      <td>1</td>\n",
              "      <td>0.847506</td>\n",
              "      <td>0.152494</td>\n",
              "      <td>No</td>\n",
              "      <td>No</td>\n",
              "      <td>No</td>\n",
              "      <td>No</td>\n",
              "      <td>No</td>\n",
              "      <td>No</td>\n",
              "    </tr>\n",
              "    <tr>\n",
              "      <th>4933</th>\n",
              "      <td>0</td>\n",
              "      <td>0</td>\n",
              "      <td>1</td>\n",
              "      <td>4</td>\n",
              "      <td>0</td>\n",
              "      <td>1</td>\n",
              "      <td>0</td>\n",
              "      <td>1</td>\n",
              "      <td>0.387562</td>\n",
              "      <td>0</td>\n",
              "      <td>0</td>\n",
              "      <td>1</td>\n",
              "      <td>1</td>\n",
              "      <td>1</td>\n",
              "      <td>0</td>\n",
              "      <td>4656</td>\n",
              "      <td>1</td>\n",
              "      <td>0</td>\n",
              "      <td>0</td>\n",
              "      <td>0.724096</td>\n",
              "      <td>0.275904</td>\n",
              "      <td>No</td>\n",
              "      <td>No</td>\n",
              "      <td>No</td>\n",
              "      <td>No</td>\n",
              "      <td>No</td>\n",
              "      <td>No</td>\n",
              "    </tr>\n",
              "    <tr>\n",
              "      <th>4934</th>\n",
              "      <td>2</td>\n",
              "      <td>0</td>\n",
              "      <td>1</td>\n",
              "      <td>72</td>\n",
              "      <td>1</td>\n",
              "      <td>0</td>\n",
              "      <td>0</td>\n",
              "      <td>1</td>\n",
              "      <td>0.920398</td>\n",
              "      <td>2</td>\n",
              "      <td>0</td>\n",
              "      <td>0</td>\n",
              "      <td>1</td>\n",
              "      <td>0</td>\n",
              "      <td>0</td>\n",
              "      <td>4657</td>\n",
              "      <td>1</td>\n",
              "      <td>0</td>\n",
              "      <td>1</td>\n",
              "      <td>0.929394</td>\n",
              "      <td>0.070606</td>\n",
              "      <td>No</td>\n",
              "      <td>No</td>\n",
              "      <td>No</td>\n",
              "      <td>No</td>\n",
              "      <td>No</td>\n",
              "      <td>No</td>\n",
              "    </tr>\n",
              "    <tr>\n",
              "      <th>...</th>\n",
              "      <td>...</td>\n",
              "      <td>...</td>\n",
              "      <td>...</td>\n",
              "      <td>...</td>\n",
              "      <td>...</td>\n",
              "      <td>...</td>\n",
              "      <td>...</td>\n",
              "      <td>...</td>\n",
              "      <td>...</td>\n",
              "      <td>...</td>\n",
              "      <td>...</td>\n",
              "      <td>...</td>\n",
              "      <td>...</td>\n",
              "      <td>...</td>\n",
              "      <td>...</td>\n",
              "      <td>...</td>\n",
              "      <td>...</td>\n",
              "      <td>...</td>\n",
              "      <td>...</td>\n",
              "      <td>...</td>\n",
              "      <td>...</td>\n",
              "      <td>...</td>\n",
              "      <td>...</td>\n",
              "      <td>...</td>\n",
              "      <td>...</td>\n",
              "      <td>...</td>\n",
              "      <td>...</td>\n",
              "    </tr>\n",
              "    <tr>\n",
              "      <th>7038</th>\n",
              "      <td>1</td>\n",
              "      <td>1</td>\n",
              "      <td>1</td>\n",
              "      <td>24</td>\n",
              "      <td>0</td>\n",
              "      <td>1</td>\n",
              "      <td>0</td>\n",
              "      <td>1</td>\n",
              "      <td>0.662189</td>\n",
              "      <td>2</td>\n",
              "      <td>1</td>\n",
              "      <td>1</td>\n",
              "      <td>1</td>\n",
              "      <td>0</td>\n",
              "      <td>0</td>\n",
              "      <td>6526</td>\n",
              "      <td>1</td>\n",
              "      <td>1</td>\n",
              "      <td>1</td>\n",
              "      <td>0.827409</td>\n",
              "      <td>0.172591</td>\n",
              "      <td>No</td>\n",
              "      <td>No</td>\n",
              "      <td>No</td>\n",
              "      <td>No</td>\n",
              "      <td>No</td>\n",
              "      <td>No</td>\n",
              "    </tr>\n",
              "    <tr>\n",
              "      <th>7039</th>\n",
              "      <td>1</td>\n",
              "      <td>0</td>\n",
              "      <td>0</td>\n",
              "      <td>72</td>\n",
              "      <td>1</td>\n",
              "      <td>3</td>\n",
              "      <td>0</td>\n",
              "      <td>1</td>\n",
              "      <td>0.845274</td>\n",
              "      <td>2</td>\n",
              "      <td>0</td>\n",
              "      <td>1</td>\n",
              "      <td>1</td>\n",
              "      <td>0</td>\n",
              "      <td>0</td>\n",
              "      <td>6527</td>\n",
              "      <td>1</td>\n",
              "      <td>0</td>\n",
              "      <td>1</td>\n",
              "      <td>0.843781</td>\n",
              "      <td>0.156219</td>\n",
              "      <td>No</td>\n",
              "      <td>No</td>\n",
              "      <td>No</td>\n",
              "      <td>No</td>\n",
              "      <td>No</td>\n",
              "      <td>No</td>\n",
              "    </tr>\n",
              "    <tr>\n",
              "      <th>7040</th>\n",
              "      <td>0</td>\n",
              "      <td>0</td>\n",
              "      <td>1</td>\n",
              "      <td>11</td>\n",
              "      <td>0</td>\n",
              "      <td>0</td>\n",
              "      <td>0</td>\n",
              "      <td>0</td>\n",
              "      <td>0.112935</td>\n",
              "      <td>0</td>\n",
              "      <td>1</td>\n",
              "      <td>1</td>\n",
              "      <td>0</td>\n",
              "      <td>0</td>\n",
              "      <td>0</td>\n",
              "      <td>6528</td>\n",
              "      <td>0</td>\n",
              "      <td>0</td>\n",
              "      <td>0</td>\n",
              "      <td>0.713332</td>\n",
              "      <td>0.286668</td>\n",
              "      <td>No</td>\n",
              "      <td>No</td>\n",
              "      <td>Yes</td>\n",
              "      <td>No</td>\n",
              "      <td>No</td>\n",
              "      <td>No</td>\n",
              "    </tr>\n",
              "    <tr>\n",
              "      <th>7041</th>\n",
              "      <td>0</td>\n",
              "      <td>0</td>\n",
              "      <td>0</td>\n",
              "      <td>4</td>\n",
              "      <td>1</td>\n",
              "      <td>1</td>\n",
              "      <td>0</td>\n",
              "      <td>0</td>\n",
              "      <td>0.558706</td>\n",
              "      <td>2</td>\n",
              "      <td>1</td>\n",
              "      <td>0</td>\n",
              "      <td>0</td>\n",
              "      <td>0</td>\n",
              "      <td>1</td>\n",
              "      <td>6529</td>\n",
              "      <td>0</td>\n",
              "      <td>1</td>\n",
              "      <td>1</td>\n",
              "      <td>0.421668</td>\n",
              "      <td>0.578332</td>\n",
              "      <td>Yes</td>\n",
              "      <td>Yes</td>\n",
              "      <td>Yes</td>\n",
              "      <td>Yes</td>\n",
              "      <td>Yes</td>\n",
              "      <td>Yes</td>\n",
              "    </tr>\n",
              "    <tr>\n",
              "      <th>7042</th>\n",
              "      <td>2</td>\n",
              "      <td>1</td>\n",
              "      <td>1</td>\n",
              "      <td>66</td>\n",
              "      <td>1</td>\n",
              "      <td>2</td>\n",
              "      <td>0</td>\n",
              "      <td>1</td>\n",
              "      <td>0.869652</td>\n",
              "      <td>1</td>\n",
              "      <td>1</td>\n",
              "      <td>0</td>\n",
              "      <td>1</td>\n",
              "      <td>1</td>\n",
              "      <td>0</td>\n",
              "      <td>6530</td>\n",
              "      <td>1</td>\n",
              "      <td>1</td>\n",
              "      <td>1</td>\n",
              "      <td>0.919866</td>\n",
              "      <td>0.080134</td>\n",
              "      <td>No</td>\n",
              "      <td>No</td>\n",
              "      <td>No</td>\n",
              "      <td>No</td>\n",
              "      <td>No</td>\n",
              "      <td>No</td>\n",
              "    </tr>\n",
              "  </tbody>\n",
              "</table>\n",
              "<p>2113 rows × 27 columns</p>\n",
              "</div>"
            ],
            "text/plain": [
              "      Contract  ...  Churn_Ensembled_predictions\n",
              "4930         0  ...                           No\n",
              "4931         0  ...                          Yes\n",
              "4932         1  ...                           No\n",
              "4933         0  ...                           No\n",
              "4934         2  ...                           No\n",
              "...        ...  ...                          ...\n",
              "7038         1  ...                           No\n",
              "7039         1  ...                           No\n",
              "7040         0  ...                           No\n",
              "7041         0  ...                          Yes\n",
              "7042         2  ...                           No\n",
              "\n",
              "[2113 rows x 27 columns]"
            ]
          },
          "metadata": {
            "tags": []
          },
          "execution_count": 13
        }
      ]
    },
    {
      "cell_type": "code",
      "metadata": {
        "id": "QoqsH4LeLD8D",
        "colab_type": "code",
        "outputId": "50e10030-f2c1-4bb0-bc15-8dfcaf0d3153",
        "colab": {
          "base_uri": "https://localhost:8080/",
          "height": 52
        }
      },
      "source": [
        " print(confusion_matrix(test_df[target].values,testm['Churn_XGBoost_predictions'].values))"
      ],
      "execution_count": 14,
      "outputs": [
        {
          "output_type": "stream",
          "text": [
            "[[1311  222]\n",
            " [ 233  347]]\n"
          ],
          "name": "stdout"
        }
      ]
    },
    {
      "cell_type": "code",
      "metadata": {
        "id": "Z2rkWfPvOWUs",
        "colab_type": "code",
        "outputId": "e4868e42-e58c-403f-9233-922eb15ff4f9",
        "colab": {
          "base_uri": "https://localhost:8080/",
          "height": 52
        }
      },
      "source": [
        " print(confusion_matrix(test_df[target].values,testm['Churn_Logistic Regression_predictions'].values))"
      ],
      "execution_count": 15,
      "outputs": [
        {
          "output_type": "stream",
          "text": [
            "[[1410  123]\n",
            " [ 302  278]]\n"
          ],
          "name": "stdout"
        }
      ]
    },
    {
      "cell_type": "code",
      "metadata": {
        "id": "bWEcJG20TbcF",
        "colab_type": "code",
        "outputId": "43331684-a71d-4367-8f39-7a6d68a29f5a",
        "colab": {
          "base_uri": "https://localhost:8080/",
          "height": 52
        }
      },
      "source": [
        " print(confusion_matrix(test_df[target].values,testm['Churn_Ensembled_predictions'].values))"
      ],
      "execution_count": 16,
      "outputs": [
        {
          "output_type": "stream",
          "text": [
            "[[1375  158]\n",
            " [ 268  312]]\n"
          ],
          "name": "stdout"
        }
      ]
    },
    {
      "cell_type": "code",
      "metadata": {
        "id": "IO2oYoHPLjWc",
        "colab_type": "code",
        "outputId": "48045c18-f77a-444a-b3b1-06cb9dfb3c30",
        "colab": {
          "base_uri": "https://localhost:8080/",
          "height": 173
        }
      },
      "source": [
        "print(classification_report(test_df[target].values,testm['Churn_XGBoost_predictions'].values))"
      ],
      "execution_count": 17,
      "outputs": [
        {
          "output_type": "stream",
          "text": [
            "              precision    recall  f1-score   support\n",
            "\n",
            "          No       0.85      0.86      0.85      1533\n",
            "         Yes       0.61      0.60      0.60       580\n",
            "\n",
            "    accuracy                           0.78      2113\n",
            "   macro avg       0.73      0.73      0.73      2113\n",
            "weighted avg       0.78      0.78      0.78      2113\n",
            "\n"
          ],
          "name": "stdout"
        }
      ]
    },
    {
      "cell_type": "code",
      "metadata": {
        "id": "7TmezM_STsYq",
        "colab_type": "code",
        "outputId": "4ad0eff5-5ef5-4ebd-c3c5-98ede8da7617",
        "colab": {
          "base_uri": "https://localhost:8080/",
          "height": 173
        }
      },
      "source": [
        "print(classification_report(test_df[target].values,testm['Churn_Ensembled_predictions'].values))"
      ],
      "execution_count": 18,
      "outputs": [
        {
          "output_type": "stream",
          "text": [
            "              precision    recall  f1-score   support\n",
            "\n",
            "          No       0.84      0.90      0.87      1533\n",
            "         Yes       0.66      0.54      0.59       580\n",
            "\n",
            "    accuracy                           0.80      2113\n",
            "   macro avg       0.75      0.72      0.73      2113\n",
            "weighted avg       0.79      0.80      0.79      2113\n",
            "\n"
          ],
          "name": "stdout"
        }
      ]
    }
  ]
}